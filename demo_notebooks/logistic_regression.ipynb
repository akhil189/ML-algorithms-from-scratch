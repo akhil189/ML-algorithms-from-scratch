{
 "cells": [
  {
   "cell_type": "markdown",
   "metadata": {
    "id": "P3RHWABLRdoR"
   },
   "source": [
    "# Logistic Regression"
   ]
  },
  {
   "cell_type": "code",
   "execution_count": 13,
   "metadata": {
    "id": "Kifz8sOOQwCR"
   },
   "outputs": [
    {
     "name": "stdout",
     "output_type": "stream",
     "text": [
      "The autoreload extension is already loaded. To reload it, use:\n",
      "  %reload_ext autoreload\n"
     ]
    }
   ],
   "source": [
    "%load_ext autoreload\n",
    "%autoreload 2\n",
    "\n",
    "import pandas as pd\n",
    "\n",
    "sys.path.append('../')\n",
    "from ml_algs.logistic_regression import LogisticRegression"
   ]
  },
  {
   "cell_type": "code",
   "execution_count": 14,
   "metadata": {},
   "outputs": [],
   "source": [
    "train_df = pd.read_excel('../datasets/data.xls', sheet_name='2004--2005 Data')\n",
    "test_df = pd.read_excel('../datasets/data.xls', sheet_name='2004--2007 Data')\n",
    "\n",
    "X_train, y_train = train_df.iloc[:, 1:], train_df.iloc[:, 0]\n",
    "X_test, y_test = test_df.iloc[:, 1:], test_df.iloc[:, 0]"
   ]
  },
  {
   "cell_type": "code",
   "execution_count": 15,
   "metadata": {
    "id": "0YnshBa_jiIa"
   },
   "outputs": [
    {
     "name": "stderr",
     "output_type": "stream",
     "text": [
      "100%|██████████| 5000/5000 [00:01<00:00, 3741.67it/s]\n"
     ]
    }
   ],
   "source": [
    "log_reg = LogisticRegression(learning_rate=0.0005,\n",
    "                             tolerance=0.000001)\n",
    "\n",
    "log_reg.fit(X_train, y_train)"
   ]
  },
  {
   "cell_type": "code",
   "execution_count": 16,
   "metadata": {},
   "outputs": [
    {
     "name": "stderr",
     "output_type": "stream",
     "text": [
      "No artists with labels found to put in legend.  Note that artists whose label start with an underscore are ignored when legend() is called with no argument.\n"
     ]
    },
    {
     "data": {
      "image/png": "[encoded data removed]",
      "text/plain": [
       "<Figure size 432x288 with 1 Axes>"
      ]
     },
     "metadata": {
      "needs_background": "light"
     },
     "output_type": "display_data"
    }
   ],
   "source": [
    "log_reg.plotCost()"
   ]
  },
  {
   "cell_type": "code",
   "execution_count": 17,
   "metadata": {},
   "outputs": [
    {
     "name": "stdout",
     "output_type": "stream",
     "text": [
      "Training Accuracy: 0.9565217391304348\n",
      "Training Precision: 0.9722222222222222\n",
      "Training Recall: 0.9722222222222222\n"
     ]
    }
   ],
   "source": [
    "y_hat_train = log_reg.predict(X_train)\n",
    "\n",
    "accuracy, recall, precision = log_reg.evaluate(y_train, y_hat_train)\n",
    "\n",
    "print(f'Training Accuracy: {accuracy}')\n",
    "print(f'Training Precision: {precision}')\n",
    "print(f'Training Recall: {recall}')"
   ]
  },
  {
   "cell_type": "code",
   "execution_count": 18,
   "metadata": {},
   "outputs": [
    {
     "name": "stdout",
     "output_type": "stream",
     "text": [
      "Testing Accuracy: 0.8947368421052632\n",
      "Testing Precision: 0.9459459459459459\n",
      "Testing Recall: 0.9210526315789473\n"
     ]
    }
   ],
   "source": [
    "y_hat_test = log_reg.predict(X_test)\n",
    "accuracy, recall, precision = log_reg.evaluate(y_test, y_hat_test)\n",
    "\n",
    "print(f'Testing Accuracy: {accuracy}')\n",
    "print(f'Testing Precision: {precision}')\n",
    "print(f'Testing Recall: {recall}')"
   ]
  }
 ],
 "metadata": {
  "colab": {
   "name": "Homework Lab 2.ipynb",
   "provenance": []
  },
  "kernelspec": {
   "display_name": "py39",
   "language": "python",
   "name": "python3"
  },
  "language_info": {
   "codemirror_mode": {
    "name": "ipython",
    "version": 3
   },
   "file_extension": ".py",
   "mimetype": "text/x-python",
   "name": "python",
   "nbconvert_exporter": "python",
   "pygments_lexer": "ipython3",
   "version": "3.9.12"
  },
  "vscode": {
   "interpreter": {
    "hash": "1b78ee8fea3ecc110017e5cfe1e905a27c32ef7962e5fec5aa16e388002e82f5"
   }
  }
 },
 "nbformat": 4,
 "nbformat_minor": 4
}
