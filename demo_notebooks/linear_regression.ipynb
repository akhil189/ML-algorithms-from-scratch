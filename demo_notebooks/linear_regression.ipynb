{
 "cells": [
  {
   "attachments": {},
   "cell_type": "markdown",
   "id": "23ea44e1",
   "metadata": {},
   "source": [
    "#### Importing libraries"
   ]
  },
  {
   "cell_type": "code",
   "execution_count": 1,
   "id": "6f147319-52c6-430c-a236-aafee8a9a64a",
   "metadata": {},
   "outputs": [],
   "source": [
    "%load_ext autoreload\n",
    "%autoreload 2\n",
    "\n",
    "import pandas as pd\n",
    "import numpy as np\n",
    "\n",
    "import seaborn as sns\n",
    "import matplotlib.pyplot as plt\n",
    "%matplotlib inline\n",
    "\n",
    "from sklearn.model_selection import train_test_split\n",
    "\n",
    "sys.path.append('../')\n",
    "from ml_algs.linear_regression import LinearRegression"
   ]
  },
  {
   "cell_type": "code",
   "execution_count": 2,
   "id": "f0ae6071-02ec-4f41-a6e1-890637d44869",
   "metadata": {},
   "outputs": [
    {
     "data": {
      "text/html": [
       "<div>\n",
       "<style scoped>\n",
       "    .dataframe tbody tr th:only-of-type {\n",
       "        vertical-align: middle;\n",
       "    }\n",
       "\n",
       "    .dataframe tbody tr th {\n",
       "        vertical-align: top;\n",
       "    }\n",
       "\n",
       "    .dataframe thead th {\n",
       "        text-align: right;\n",
       "    }\n",
       "</style>\n",
       "<table border=\"1\" class=\"dataframe\">\n",
       "  <thead>\n",
       "    <tr style=\"text-align: right;\">\n",
       "      <th></th>\n",
       "      <th>0</th>\n",
       "      <th>1</th>\n",
       "      <th>2</th>\n",
       "      <th>3</th>\n",
       "      <th>4</th>\n",
       "      <th>5</th>\n",
       "      <th>6</th>\n",
       "      <th>7</th>\n",
       "      <th>8</th>\n",
       "      <th>9</th>\n",
       "      <th>10</th>\n",
       "      <th>11</th>\n",
       "      <th>12</th>\n",
       "      <th>13</th>\n",
       "    </tr>\n",
       "  </thead>\n",
       "  <tbody>\n",
       "    <tr>\n",
       "      <th>0</th>\n",
       "      <td>0.00632</td>\n",
       "      <td>18.0</td>\n",
       "      <td>2.31</td>\n",
       "      <td>0</td>\n",
       "      <td>0.538</td>\n",
       "      <td>6.575</td>\n",
       "      <td>65.2</td>\n",
       "      <td>4.0900</td>\n",
       "      <td>1</td>\n",
       "      <td>296</td>\n",
       "      <td>15.3</td>\n",
       "      <td>396.90</td>\n",
       "      <td>4.98</td>\n",
       "      <td>24.0</td>\n",
       "    </tr>\n",
       "    <tr>\n",
       "      <th>1</th>\n",
       "      <td>0.02731</td>\n",
       "      <td>0.0</td>\n",
       "      <td>7.07</td>\n",
       "      <td>0</td>\n",
       "      <td>0.469</td>\n",
       "      <td>6.421</td>\n",
       "      <td>78.9</td>\n",
       "      <td>4.9671</td>\n",
       "      <td>2</td>\n",
       "      <td>242</td>\n",
       "      <td>17.8</td>\n",
       "      <td>396.90</td>\n",
       "      <td>9.14</td>\n",
       "      <td>21.6</td>\n",
       "    </tr>\n",
       "    <tr>\n",
       "      <th>2</th>\n",
       "      <td>0.02729</td>\n",
       "      <td>0.0</td>\n",
       "      <td>7.07</td>\n",
       "      <td>0</td>\n",
       "      <td>0.469</td>\n",
       "      <td>7.185</td>\n",
       "      <td>61.1</td>\n",
       "      <td>4.9671</td>\n",
       "      <td>2</td>\n",
       "      <td>242</td>\n",
       "      <td>17.8</td>\n",
       "      <td>392.83</td>\n",
       "      <td>4.03</td>\n",
       "      <td>34.7</td>\n",
       "    </tr>\n",
       "    <tr>\n",
       "      <th>3</th>\n",
       "      <td>0.03237</td>\n",
       "      <td>0.0</td>\n",
       "      <td>2.18</td>\n",
       "      <td>0</td>\n",
       "      <td>0.458</td>\n",
       "      <td>6.998</td>\n",
       "      <td>45.8</td>\n",
       "      <td>6.0622</td>\n",
       "      <td>3</td>\n",
       "      <td>222</td>\n",
       "      <td>18.7</td>\n",
       "      <td>394.63</td>\n",
       "      <td>2.94</td>\n",
       "      <td>33.4</td>\n",
       "    </tr>\n",
       "    <tr>\n",
       "      <th>4</th>\n",
       "      <td>0.06905</td>\n",
       "      <td>0.0</td>\n",
       "      <td>2.18</td>\n",
       "      <td>0</td>\n",
       "      <td>0.458</td>\n",
       "      <td>7.147</td>\n",
       "      <td>54.2</td>\n",
       "      <td>6.0622</td>\n",
       "      <td>3</td>\n",
       "      <td>222</td>\n",
       "      <td>18.7</td>\n",
       "      <td>396.90</td>\n",
       "      <td>5.33</td>\n",
       "      <td>36.2</td>\n",
       "    </tr>\n",
       "  </tbody>\n",
       "</table>\n",
       "</div>"
      ],
      "text/plain": [
       "        0     1     2   3      4      5     6       7   8    9     10      11  \\\n",
       "0  0.00632  18.0  2.31   0  0.538  6.575  65.2  4.0900   1  296  15.3  396.90   \n",
       "1  0.02731   0.0  7.07   0  0.469  6.421  78.9  4.9671   2  242  17.8  396.90   \n",
       "2  0.02729   0.0  7.07   0  0.469  7.185  61.1  4.9671   2  242  17.8  392.83   \n",
       "3  0.03237   0.0  2.18   0  0.458  6.998  45.8  6.0622   3  222  18.7  394.63   \n",
       "4  0.06905   0.0  2.18   0  0.458  7.147  54.2  6.0622   3  222  18.7  396.90   \n",
       "\n",
       "     12    13  \n",
       "0  4.98  24.0  \n",
       "1  9.14  21.6  \n",
       "2  4.03  34.7  \n",
       "3  2.94  33.4  \n",
       "4  5.33  36.2  "
      ]
     },
     "execution_count": 2,
     "metadata": {},
     "output_type": "execute_result"
    }
   ],
   "source": [
    "housing_df = pd.read_csv('../datasets/housing.csv', header = None)\n",
    "housing_df.head()"
   ]
  },
  {
   "cell_type": "code",
   "execution_count": 3,
   "id": "cd4318a7",
   "metadata": {},
   "outputs": [
    {
     "data": {
      "text/plain": [
       "(506, 14)"
      ]
     },
     "execution_count": 3,
     "metadata": {},
     "output_type": "execute_result"
    }
   ],
   "source": [
    "housing_df.shape"
   ]
  },
  {
   "cell_type": "code",
   "execution_count": 4,
   "id": "26e67814-bbf8-4705-b099-1af228728cdb",
   "metadata": {},
   "outputs": [],
   "source": [
    "X_train, X_test, y_train, y_test = train_test_split(housing_df.values[:, :-1],\n",
    "                                                    housing_df.values[:, -1],\n",
    "                                                    test_size=0.2,\n",
    "                                                    random_state = 0)\n",
    "mean = np.mean(X_train, axis=0)\n",
    "std = np.std(X_train, axis=0)\n",
    "\n",
    "X_train, X_test = (X_train - mean)/std, (X_test-mean)/std\n",
    "# X_test = np.column_stack( (np.ones((X_test.shape[0], 1)), X_test) )"
   ]
  },
  {
   "attachments": {},
   "cell_type": "markdown",
   "id": "c618afe9",
   "metadata": {},
   "source": [
    "### Closed-Form Solution\n",
    "\n",
    "$ \\hat{\\theta} = (X^T.X)^{-1}X^T.y $"
   ]
  },
  {
   "cell_type": "code",
   "execution_count": 5,
   "id": "483b7452-9bb6-4f7c-bd16-1f6805f98e1c",
   "metadata": {},
   "outputs": [
    {
     "name": "stdout",
     "output_type": "stream",
     "text": [
      "Data matrix is Full-rank. Closed-form-solution exists.\n",
      "RMSE 5.783509053791393\n",
      "MSE: 33.44897697528702\n"
     ]
    }
   ],
   "source": [
    "lr = LinearRegression(optimizer=None)\n",
    "lr.fit(X_train, y_train)\n",
    "\n",
    "y_hat_test = lr.predict(X_test)\n",
    "print(f'RMSE {lr.rmse(y_test, y_hat_test)}')\n",
    "print(f'MSE: {lr.mse(y_test, y_hat_test)}') "
   ]
  },
  {
   "attachments": {},
   "cell_type": "markdown",
   "id": "3183900a",
   "metadata": {},
   "source": [
    "### Closed-Form Solution with L2-Regularization\n",
    "\n",
    "$ \\hat{\\theta} = (X^T.X + \\lambda.I)^{-1}X^T.y$"
   ]
  },
  {
   "cell_type": "code",
   "execution_count": 6,
   "id": "8cab4e89-8569-4250-9039-7eef768b7f47",
   "metadata": {},
   "outputs": [
    {
     "name": "stdout",
     "output_type": "stream",
     "text": [
      "Data matrix is Full-rank. Closed-form-solution exists.\n",
      "RMSE: 5.793846834702777\n",
      "MSE: 33.56866114399539\n"
     ]
    }
   ],
   "source": [
    "lr = LinearRegression(optimizer=None,\n",
    "                      penalty='l2',\n",
    "                      lambda_ = 1)\n",
    "lr.fit(X_train, y_train)\n",
    "\n",
    "y_hat_test = lr.predict(X_test)\n",
    "\n",
    "print(f'RMSE: {lr.rmse(y_test, y_hat_test)}')\n",
    "print(f'MSE: {lr.mse(y_test, y_hat_test)}') "
   ]
  },
  {
   "attachments": {},
   "cell_type": "markdown",
   "id": "b815839e",
   "metadata": {},
   "source": [
    "### Batch-Gradient Descent"
   ]
  },
  {
   "cell_type": "code",
   "execution_count": 7,
   "id": "773f00bc-320c-41f0-bdae-4455c2af6465",
   "metadata": {},
   "outputs": [
    {
     "name": "stderr",
     "output_type": "stream",
     "text": [
      "  2%|▏         | 81/5000 [00:00<00:02, 2076.45it/s]"
     ]
    },
    {
     "name": "stdout",
     "output_type": "stream",
     "text": [
      "The model stopped learning - Converged in 81 steps(iterations)\n",
      "RMSE: 5.808750643468277\n",
      "MSE: 33.741584037993114\n"
     ]
    },
    {
     "name": "stderr",
     "output_type": "stream",
     "text": [
      "\n"
     ]
    },
    {
     "data": {
      "image/png": "[encoded data removed]",
      "text/plain": [
       "<Figure size 432x288 with 1 Axes>"
      ]
     },
     "metadata": {
      "needs_background": "light"
     },
     "output_type": "display_data"
    }
   ],
   "source": [
    "lr = LinearRegression(learning_rate=0.3,\n",
    "                      optimizer='gradient_descent',\n",
    "                      loss = 'mse')\n",
    "\n",
    "lr.fit(X_train, y_train)\n",
    "\n",
    "y_hat_test = lr.predict(X_test)\n",
    "\n",
    "print(f'RMSE: {lr.rmse(y_test, y_hat_test)}')\n",
    "print(f'MSE: {lr.mse(y_test, y_hat_test)}') \n",
    "\n",
    "plt.plot(lr.errors)\n",
    "plt.show()"
   ]
  },
  {
   "attachments": {},
   "cell_type": "markdown",
   "id": "bd3e08f4",
   "metadata": {},
   "source": [
    "### Mini-Batch Gradient Descent"
   ]
  },
  {
   "cell_type": "code",
   "execution_count": 8,
   "id": "5e2c1cba",
   "metadata": {},
   "outputs": [
    {
     "name": "stderr",
     "output_type": "stream",
     "text": [
      "  1%|▏         | 65/5000 [00:00<00:02, 1911.30it/s]"
     ]
    },
    {
     "name": "stdout",
     "output_type": "stream",
     "text": [
      "The model stopped learning - Converged in 65 steps(iterations)\n",
      "RMSE: 5.860960980399189\n",
      "MSE: 34.35086361376182\n"
     ]
    },
    {
     "name": "stderr",
     "output_type": "stream",
     "text": [
      "\n"
     ]
    },
    {
     "data": {
      "image/png": "[encoded data removed]",
      "text/plain": [
       "<Figure size 432x288 with 1 Axes>"
      ]
     },
     "metadata": {
      "needs_background": "light"
     },
     "output_type": "display_data"
    }
   ],
   "source": [
    "lr = LinearRegression(learning_rate=0.1,\n",
    "                      optimizer='gd',\n",
    "                      loss = 'mse',\n",
    "                      batch_size=256,\n",
    "                      tolerance=0.1)\n",
    "\n",
    "lr.fit(X_train, y_train)\n",
    "\n",
    "y_hat_test = lr.predict(X_test)\n",
    "\n",
    "print(f'RMSE: {lr.rmse(y_test, y_hat_test)}')\n",
    "print(f'MSE: {lr.mse(y_test, y_hat_test)}') \n",
    "\n",
    "plt.plot(lr.errors)\n",
    "plt.show()"
   ]
  },
  {
   "cell_type": "markdown",
   "id": "3cc5d96b",
   "metadata": {},
   "source": [
    "### Online Gradient Descent"
   ]
  },
  {
   "cell_type": "code",
   "execution_count": 9,
   "id": "9fe28f9a",
   "metadata": {},
   "outputs": [
    {
     "name": "stderr",
     "output_type": "stream",
     "text": [
      "  0%|          | 0/5000 [00:00<?, ?it/s]\n"
     ]
    },
    {
     "name": "stdout",
     "output_type": "stream",
     "text": [
      "The model stopped learning - Converged in 0 steps(iterations)\n",
      "RMSE: 11.003763953742068\n",
      "MSE: 121.08282114967328\n"
     ]
    },
    {
     "data": {
      "image/png": "[encoded data removed]",
      "text/plain": [
       "<Figure size 432x288 with 1 Axes>"
      ]
     },
     "metadata": {
      "needs_background": "light"
     },
     "output_type": "display_data"
    }
   ],
   "source": [
    "lr = LinearRegression(learning_rate=0.05,\n",
    "                      optimizer='gradient_descent',\n",
    "                      loss = 'mse',\n",
    "                      batch_size=1,\n",
    "                      tolerance=0.1)\n",
    "\n",
    "lr.fit(X_train, y_train)\n",
    "\n",
    "y_hat_test = lr.predict(X_test)\n",
    "\n",
    "print(f'RMSE: {lr.rmse(y_test, y_hat_test)}')\n",
    "print(f'MSE: {lr.mse(y_test, y_hat_test)}') \n",
    "\n",
    "plt.plot(lr.errors)\n",
    "plt.show()"
   ]
  }
 ],
 "metadata": {
  "kernelspec": {
   "display_name": "py39",
   "language": "python",
   "name": "python3"
  },
  "language_info": {
   "codemirror_mode": {
    "name": "ipython",
    "version": 3
   },
   "file_extension": ".py",
   "mimetype": "text/x-python",
   "name": "python",
   "nbconvert_exporter": "python",
   "pygments_lexer": "ipython3",
   "version": "3.9.12"
  },
  "vscode": {
   "interpreter": {
    "hash": "1b78ee8fea3ecc110017e5cfe1e905a27c32ef7962e5fec5aa16e388002e82f5"
   }
  }
 },
 "nbformat": 4,
 "nbformat_minor": 5
}
