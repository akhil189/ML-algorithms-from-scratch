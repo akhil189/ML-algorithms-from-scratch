{
  "cells": [
    {
      "attachments": {},
      "cell_type": "markdown",
      "metadata": {},
      "source": [
        "# SVM Classifer (hard-margin)"
      ]
    },
    {
      "cell_type": "code",
      "execution_count": 1,
      "metadata": {
        "id": "z7AgKM55M_gn"
      },
      "outputs": [],
      "source": [
        "import matplotlib.pyplot as plt\n",
        "from sklearn import datasets\n",
        "\n",
        "sys.path.append('../')\n",
        "from ml_algs.svm_hard_margin import SVM\n",
        "from ml_algs.svm_utils import *"
      ]
    },
    {
      "cell_type": "code",
      "execution_count": 2,
      "metadata": {
        "id": "VBA0A3CaNORg"
      },
      "outputs": [],
      "source": [
        "X, y = datasets.make_blobs(n_samples=100, n_features=2, centers=2, cluster_std = 1.005, random_state=40)"
      ]
    },
    {
      "cell_type": "code",
      "execution_count": 3,
      "metadata": {
        "colab": {
          "base_uri": "https://localhost:8080/"
        },
        "id": "k1OKL6v8NdEY",
        "outputId": "0c20fe8e-efd8-4538-f952-b848a9716b82"
      },
      "outputs": [
        {
          "data": {
            "text/plain": [
              "((100, 2), (100,))"
            ]
          },
          "execution_count": 3,
          "metadata": {},
          "output_type": "execute_result"
        }
      ],
      "source": [
        "X.shape, y.shape"
      ]
    },
    {
      "cell_type": "code",
      "execution_count": 4,
      "metadata": {},
      "outputs": [
        {
          "data": {
            "text/plain": [
              "array([ 1, -1,  1,  1, -1, -1, -1,  1,  1, -1, -1,  1,  1,  1,  1,  1,  1,\n",
              "        1, -1, -1,  1, -1,  1,  1, -1,  1, -1,  1,  1, -1, -1, -1,  1,  1,\n",
              "        1, -1, -1, -1, -1,  1, -1, -1,  1, -1,  1, -1,  1, -1, -1,  1,  1,\n",
              "        1, -1,  1,  1,  1, -1, -1,  1, -1,  1,  1,  1, -1, -1, -1,  1,  1,\n",
              "       -1,  1, -1, -1, -1,  1,  1, -1,  1, -1,  1, -1,  1,  1,  1, -1, -1,\n",
              "       -1, -1, -1,  1,  1, -1, -1,  1,  1, -1,  1, -1, -1, -1, -1])"
            ]
          },
          "execution_count": 4,
          "metadata": {},
          "output_type": "execute_result"
        }
      ],
      "source": [
        "y = np.where(y==0, -1, 1)\n",
        "y"
      ]
    },
    {
      "cell_type": "code",
      "execution_count": 5,
      "metadata": {
        "id": "sp7_gaNpPG7y"
      },
      "outputs": [],
      "source": [
        "clf = SVM()\n",
        "clf.fit(X, y)"
      ]
    },
    {
      "cell_type": "code",
      "execution_count": 6,
      "metadata": {
        "colab": {
          "base_uri": "https://localhost:8080/"
        },
        "id": "c8wdfth4Qv0T",
        "outputId": "aa0be72e-e844-4352-ae26-61b9ffc23379"
      },
      "outputs": [
        {
          "data": {
            "text/plain": [
              "array([0.44396985, 0.14620621])"
            ]
          },
          "execution_count": 6,
          "metadata": {},
          "output_type": "execute_result"
        }
      ],
      "source": [
        "clf.w"
      ]
    },
    {
      "cell_type": "code",
      "execution_count": 7,
      "metadata": {
        "colab": {
          "base_uri": "https://localhost:8080/"
        },
        "id": "t31qpz1MQ3_y",
        "outputId": "71cc52ff-39c2-4621-dffc-a60dca9d4c71"
      },
      "outputs": [
        {
          "data": {
            "text/plain": [
              "0.024699999999999906"
            ]
          },
          "execution_count": 7,
          "metadata": {},
          "output_type": "execute_result"
        }
      ],
      "source": [
        "clf.b"
      ]
    },
    {
      "cell_type": "code",
      "execution_count": 8,
      "metadata": {
        "colab": {
          "base_uri": "https://localhost:8080/",
          "height": 265
        },
        "id": "5CirptKUQ4oD",
        "outputId": "c6bf6623-893e-4b00-eb14-3e337267d420"
      },
      "outputs": [
        {
          "data": {
            "image/png": "[encoded data removed]",
            "text/plain": [
              "<Figure size 432x288 with 1 Axes>"
            ]
          },
          "metadata": {
            "needs_background": "light"
          },
          "output_type": "display_data"
        }
      ],
      "source": [
        "visualize_svm(X,y, clf)"
      ]
    }
  ],
  "metadata": {
    "colab": {
      "provenance": [],
      "toc_visible": true
    },
    "kernelspec": {
      "display_name": "py39",
      "language": "python",
      "name": "python3"
    },
    "language_info": {
      "codemirror_mode": {
        "name": "ipython",
        "version": 3
      },
      "file_extension": ".py",
      "mimetype": "text/x-python",
      "name": "python",
      "nbconvert_exporter": "python",
      "pygments_lexer": "ipython3",
      "version": "3.9.12"
    },
    "vscode": {
      "interpreter": {
        "hash": "1b78ee8fea3ecc110017e5cfe1e905a27c32ef7962e5fec5aa16e388002e82f5"
      }
    }
  },
  "nbformat": 4,
  "nbformat_minor": 0
}
